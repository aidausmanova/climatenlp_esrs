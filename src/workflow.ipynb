{
 "cells": [
  {
   "cell_type": "code",
   "execution_count": null,
   "metadata": {},
   "outputs": [],
   "source": [
    "# pip install gradio==3.39.0"
   ]
  },
  {
   "cell_type": "code",
   "execution_count": 34,
   "metadata": {},
   "outputs": [
    {
     "name": "stderr",
     "output_type": "stream",
     "text": [
      "/Users/aidausmanova/Desktop/climatenlp/venv/lib/python3.9/site-packages/urllib3/__init__.py:35: NotOpenSSLWarning: urllib3 v2 only supports OpenSSL 1.1.1+, currently the 'ssl' module is compiled with 'LibreSSL 2.8.3'. See: https://github.com/urllib3/urllib3/issues/3020\n",
      "  warnings.warn(\n",
      "/Users/aidausmanova/Desktop/climatenlp/venv/lib/python3.9/site-packages/tqdm/auto.py:21: TqdmWarning: IProgress not found. Please update jupyter and ipywidgets. See https://ipywidgets.readthedocs.io/en/stable/user_install.html\n",
      "  from .autonotebook import tqdm as notebook_tqdm\n",
      "[nltk_data] Downloading package punkt to\n",
      "[nltk_data]     /Users/aidausmanova/nltk_data...\n",
      "[nltk_data]   Package punkt is already up-to-date!\n"
     ]
    },
    {
     "data": {
      "text/plain": [
       "True"
      ]
     },
     "execution_count": 34,
     "metadata": {},
     "output_type": "execute_result"
    }
   ],
   "source": [
    "from langchain.prompts import PromptTemplate\n",
    "from langchain.llms.openai import OpenAI\n",
    "from langchain.chat_models import ChatOpenAI\n",
    "from langchain.chains import LLMChain\n",
    "from langchain.text_splitter import CharacterTextSplitter, SpacyTextSplitter, NLTKTextSplitter\n",
    "from langchain.graphs.networkx_graph import KG_TRIPLE_DELIMITER\n",
    "from pprint import pprint\n",
    "from pyvis.network import Network\n",
    "import networkx as nx\n",
    "import gradio as gr\n",
    "\n",
    "import nltk\n",
    "nltk.download('punkt')"
   ]
  },
  {
   "cell_type": "code",
   "execution_count": 2,
   "metadata": {},
   "outputs": [
    {
     "data": {
      "text/plain": [
       "'arm64'"
      ]
     },
     "execution_count": 2,
     "metadata": {},
     "output_type": "execute_result"
    }
   ],
   "source": [
    "import platform\n",
    "platform.machine()"
   ]
  },
  {
   "cell_type": "code",
   "execution_count": 3,
   "metadata": {},
   "outputs": [
    {
     "data": {
      "text/plain": [
       "'Darwin Kernel Version 23.4.0: Fri Mar 15 00:12:25 PDT 2024; root:xnu-10063.101.17~1/RELEASE_ARM64_T6030'"
      ]
     },
     "execution_count": 3,
     "metadata": {},
     "output_type": "execute_result"
    }
   ],
   "source": [
    "platform.version()"
   ]
  },
  {
   "cell_type": "markdown",
   "metadata": {},
   "source": [
    "#### Chunking"
   ]
  },
  {
   "cell_type": "code",
   "execution_count": 42,
   "metadata": {},
   "outputs": [],
   "source": [
    "report_files = [\n",
    "        \"Airbus_SE-Document_d_Enregistrement_Universel-EN\",\n",
    "        \"ArcelorMittal_SA-SASB_Index-EN\",\n",
    "        \"Assicurazioni_Generali_SpA-SASB_Index-EN\",\n",
    "        \"Banco_Santander_SA-Annual_Report-EN\",\n",
    "        \"Bayer_AG-2021_Sustainability_Report-EN\",\n",
    "        \"Deutsche_Bank_AG-Non-EN\",\n",
    "        \"Deutsche_Lufthansa_AG-SASB_Report-EN\",\n",
    "        \"Deutsche_Wohnen-2020_Sustainability_Report-EN\",\n",
    "        \"Enel_SpA-Sustainability_Report-EN\",\n",
    "        \"Eni_SpA-Sustainability_Report-EN\",\n",
    "        \"Poste_Italiane-2017_Sustainability_Report-EN\",\n",
    "        \"Telecom_Italia_SpA-Corporate_Responsibility_Reports-EN\",\n",
    "        \"TotalEnergies-Universal_Registration_Document-EN\",\n",
    "        \"Uniper_SE-2021_Sustainability_Report-EN\"\n",
    "    ]"
   ]
  },
  {
   "cell_type": "code",
   "execution_count": 43,
   "metadata": {},
   "outputs": [
    {
     "name": "stderr",
     "output_type": "stream",
     "text": [
      "Created a chunk of size 4656, which is longer than the specified 4000\n"
     ]
    }
   ],
   "source": [
    "docs_lens = []\n",
    "\n",
    "for report_file in report_files:\n",
    "    with open(\"../data/\"+report_file+\".txt\", 'r') as f:\n",
    "        report = f.read().replace('\\n', '')\n",
    "    text_splitter = NLTKTextSplitter()\n",
    "    docs = text_splitter.split_text(report)\n",
    "    docs_lens.append(len(docs))"
   ]
  },
  {
   "cell_type": "code",
   "execution_count": 45,
   "metadata": {},
   "outputs": [
    {
     "data": {
      "text/plain": [
       "[257, 8, 2, 764, 137, 141, 3, 99, 379, 60, 146, 198, 612, 73]"
      ]
     },
     "execution_count": 45,
     "metadata": {},
     "output_type": "execute_result"
    }
   ],
   "source": [
    "docs_lens"
   ]
  },
  {
   "cell_type": "code",
   "execution_count": 4,
   "metadata": {},
   "outputs": [
    {
     "data": {
      "text/plain": [
       "764"
      ]
     },
     "execution_count": 4,
     "metadata": {},
     "output_type": "execute_result"
    }
   ],
   "source": [
    "text_splitter = NLTKTextSplitter()\n",
    "docs = text_splitter.split_text(report)\n",
    "len(docs)"
   ]
  },
  {
   "cell_type": "code",
   "execution_count": 10,
   "metadata": {},
   "outputs": [
    {
     "data": {
      "image/png": "[encoded data removed]",
      "text/plain": [
       "<Figure size 640x480 with 1 Axes>"
      ]
     },
     "metadata": {},
     "output_type": "display_data"
    }
   ],
   "source": [
    "import numpy as np\n",
    "from matplotlib import pyplot as plt\n",
    "\n",
    "# Lengths of sustainability reports\n",
    "plt.hist(docs_lens, alpha=0.5)\n",
    "plt.show()"
   ]
  },
  {
   "cell_type": "code",
   "execution_count": 29,
   "metadata": {},
   "outputs": [],
   "source": [
    "\n",
    "file = \"Airbus_SE-Document_d_Enregistrement_Universel-EN.json\"\n",
    "with open(\"../results/raw/\"+file, 'r') as f:\n",
    "    raw = f.read().replace('\\n', '')\n",
    "\n",
    "data = json.loads(raw)"
   ]
  },
  {
   "cell_type": "code",
   "execution_count": 13,
   "metadata": {},
   "outputs": [],
   "source": [
    "ts_sentences = {\n",
    "        \"Impact\": [],\n",
    "        \"Risks\": [],\n",
    "        \"Opportunities\": [],\n",
    "        \"Strategy\": [],\n",
    "        \"Actions\": [],\n",
    "        \"Targets\": [],\n",
    "        \"Organization\": [],\n",
    "        \"Reporting\": [],\n",
    "        \"Reporting_date\": []\n",
    "        }\n",
    "\n",
    "for c in data:\n",
    "    if c['subject'] == \"Impact\" and c['object'] != \"N/A\":\n",
    "        ts_sentences['Impact'].extend(c['object'].strip().split('\\n'))\n",
    "    if c['subject'] == \"Risks\" and c['object'] != \"N/A\":\n",
    "        ts_sentences['Risks'].extend(c['object'].strip().split('\\n'))\n",
    "    if c['subject'] == \"Opportunities\" and c['object'] != \"N/A\":\n",
    "        ts_sentences['Opportunities'].extend(c['object'].strip().split('\\n'))\n",
    "    if c['subject'] == \"Strategy\" and c['predicate'] == 'hasDescription' and c['object'] != \"N/A\":\n",
    "        ts_sentences['Strategy'].extend(c['object'].strip().split('\\n'))\n",
    "    if c['subject'] == \"Actions\" and c['object'] != \"N/A\":\n",
    "        ts_sentences['Actions'].extend(c['object'].strip().split('\\n'))\n",
    "    if c['subject'] == \"Targets\" and c['object'] != \"N/A\":\n",
    "        ts_sentences['Targets'].extend(c['object'].strip().split('\\n'))\n",
    "\n",
    "org, report, report_date = [], [], []\n",
    "for c in data:\n",
    "    if c['object'] != \"N/A\":\n",
    "        if c['subject'] == \"Organization\":\n",
    "            print(c['object'])\n",
    "            org.append(c['object'])\n",
    "        if c['subject'] == \"Reporting\" and c['predicate'] == \"hasName\":\n",
    "            report.append(c['object'])\n",
    "        if c['subject'] == \"Reporting\" and c['predicate'] == \"releaseDate\":\n",
    "            report_date.append(c['object'])"
   ]
  },
  {
   "cell_type": "code",
   "execution_count": 51,
   "metadata": {},
   "outputs": [
    {
     "data": {
      "text/plain": [
       "'Airbus Registration Document 2021'"
      ]
     },
     "execution_count": 51,
     "metadata": {},
     "output_type": "execute_result"
    }
   ],
   "source": [
    "# Select most common extracted report name\n",
    "def most_common(lst):\n",
    "    return max(set(lst), key=lst.count)\n",
    "\n",
    "com = most_common(report)\n",
    "com"
   ]
  },
  {
   "cell_type": "code",
   "execution_count": 21,
   "metadata": {},
   "outputs": [
    {
     "data": {
      "image/png": "[encoded data removed]",
      "text/plain": [
       "<Figure size 640x480 with 1 Axes>"
      ]
     },
     "metadata": {},
     "output_type": "display_data"
    }
   ],
   "source": [
    "import numpy as np\n",
    "from matplotlib import pyplot as plt\n",
    "\n",
    "lens = []\n",
    "for s in ts_sentences['Actions']:\n",
    "    lens.append(len(s))\n",
    "\n",
    "plt.hist(lens, alpha=0.5)\n",
    "plt.show()"
   ]
  },
  {
   "cell_type": "markdown",
   "metadata": {},
   "source": [
    "### Extract triples"
   ]
  },
  {
   "cell_type": "code",
   "execution_count": 47,
   "metadata": {},
   "outputs": [],
   "source": [
    "import os\n",
    "import openai\n",
    "import json\n",
    "\n",
    "prompt_file = \"ontosustain_stso_2.json\"\n",
    "# prompt_file = \"ontosustain_siso.json\"\n",
    "# prompt_file = \"ontosustain_srso.json\"\n",
    "with open('models/prompt/'+prompt_file) as f: \n",
    "    dict = json.load(f)\n",
    "prompt = dict['prompt']\n",
    "\n",
    "file = \"Deutsche_Bank_AG-Non-EN.txt\"\n",
    "with open(\"../data/\"+file, 'r') as f:\n",
    "    report = f.read().replace('\\n', '')"
   ]
  },
  {
   "cell_type": "code",
   "execution_count": 49,
   "metadata": {},
   "outputs": [
    {
     "name": "stderr",
     "output_type": "stream",
     "text": [
      "/Users/aidausmanova/Desktop/climatenlp/venv/lib/python3.9/site-packages/langchain_core/_api/deprecation.py:119: LangChainDeprecationWarning: The class `ChatOpenAI` was deprecated in LangChain 0.0.10 and will be removed in 0.2.0. An updated version of the class exists in the langchain-openai package and should be used instead. To use it run `pip install -U langchain-openai` and import as `from langchain_openai import ChatOpenAI`.\n",
      "  warn_deprecated(\n"
     ]
    }
   ],
   "source": [
    "openai.api_key = ('OPENAI_KEY')\n",
    "\n",
    "KNOWLEDGE_TRIPLE_EXTRACTION_PROMPT = PromptTemplate(\n",
    "    input_variables=[\"text\"],\n",
    "    template=prompt,\n",
    ")\n",
    "\n",
    "# Initialize chain\n",
    "# GPT 4: 8,192 tokens\n",
    "llm = ChatOpenAI(\n",
    "    api_key=openai.api_key,\n",
    "    temperature=0.9,\n",
    "    model=\"gpt-4\"\n",
    "    )\n",
    "\n",
    "# Create an LLMChain using the knowledge triple extraction prompt\n",
    "chain = LLMChain(llm=llm, prompt=KNOWLEDGE_TRIPLE_EXTRACTION_PROMPT)"
   ]
  },
  {
   "cell_type": "code",
   "execution_count": 50,
   "metadata": {},
   "outputs": [],
   "source": [
    "def parse_triples(response, delimiter=KG_TRIPLE_DELIMITER):\n",
    "    if not response:\n",
    "        return []\n",
    "    return response.split(delimiter)"
   ]
  },
  {
   "cell_type": "code",
   "execution_count": 51,
   "metadata": {},
   "outputs": [
    {
     "name": "stdout",
     "output_type": "stream",
     "text": [
      "The training of models in this work is estimated to use 0.000 kWh of electricity contributing to 0.000 kg of CO2eq. Measured by carbontracker (https://github.com/lfwa/carbontracker).\n"
     ]
    }
   ],
   "source": [
    "# Carbontracker to get energy usage and estimate emissions\n",
    "from carbontracker import parser\n",
    "parser.print_aggregate(log_dir=\"../logs/\")"
   ]
  },
  {
   "cell_type": "code",
   "execution_count": null,
   "metadata": {},
   "outputs": [],
   "source": [
    "from tqdm import tqdm\n",
    "from carbontracker.tracker import CarbonTracker\n",
    "# Run the chain with the specified text\n",
    "# test_text = \"CO2 emissions are to be reduced by 55 percent by 2030 and Hamburg is to become climate-neutral by 2050. The climate plan describes responsibilities and the respective CO2 reduction targets in the sectors 'transport', 'private households', 'trade and services' and 'industry'\"\n",
    "\n",
    "# triples = chain.invoke(\n",
    "#     {'text' : report}\n",
    "# ).get('text')\n",
    "\n",
    "\n",
    "all_triples = []\n",
    "tracker = CarbonTracker(epochs=764, log_dir=\"../logs/\")\n",
    "\n",
    "for doc in tqdm(docs[:1]):\n",
    "    tracker.epoch_start()\n",
    "    triples = chain.invoke(\n",
    "        {'text' : doc}\n",
    "    ).get('text')\n",
    "\n",
    "    triples_data = parse_triples(triples)\n",
    "    triples_list = triples_data[0].strip().split('|')\n",
    "    triples_list_clean = list(filter(lambda x,m=max(map(len, triples_list)):len(x)>0, triples_list))\n",
    "    all_triples.extend(triples_list_clean)\n",
    "    tracker.epoch_end()\n",
    "    # pprint(triples_list_clean)\n",
    "\n",
    "tracker.stop()\n",
    "\n",
    "logs = parser.parse_all_logs(log_dir=\"./logs/\")"
   ]
  },
  {
   "cell_type": "code",
   "execution_count": 141,
   "metadata": {},
   "outputs": [],
   "source": [
    "triplets_json = []\n",
    "for triplet in all_triples:\n",
    "    # print(triplet)\n",
    "    split = triplet.strip().split('~')\n",
    "    if len(split) == 3:\n",
    "        subject, predicate, obj = triplet.strip().split('~')\n",
    "        triplets_json.append(\n",
    "            {\"subject\": subject.strip(), \"object\": obj.strip(), \"predicate\": predicate.strip(), }\n",
    "        )"
   ]
  },
  {
   "cell_type": "code",
   "execution_count": 142,
   "metadata": {},
   "outputs": [],
   "source": [
    "# Save triples to JSON\n",
    "raw_json_path = \"../results/raw/\"+file[:-4]+\".json\"\n",
    "with open(raw_json_path, 'w', encoding='utf-8') as f:\n",
    "    json.dump(triplets_json, f, ensure_ascii=False, indent=4)"
   ]
  },
  {
   "cell_type": "markdown",
   "metadata": {},
   "source": [
    "#### Summarize JSON output"
   ]
  },
  {
   "cell_type": "code",
   "execution_count": 112,
   "metadata": {},
   "outputs": [],
   "source": [
    "file = \"Deutsche_Bank_AG-Non-EN.txt\"\n",
    "raw_json_path = \"../results/raw/\"+file[:-4]+\".json\"\n",
    "with open(raw_json_path, 'r') as f:\n",
    "    content = json.load(f)\n",
    "\n",
    "processed_triples_dict = content[:11]"
   ]
  },
  {
   "cell_type": "code",
   "execution_count": 113,
   "metadata": {},
   "outputs": [],
   "source": [
    "import pandas as pd\n",
    "import numpy as np\n",
    "\n",
    "ts_sentences = {\n",
    "    \"Impact\": [],\n",
    "    \"Risks\": [],\n",
    "    \"Opportunities\": [],\n",
    "    \"Strategy\": [],\n",
    "    \"Actions\": [],\n",
    "    \"AdoptedPolicies\": [],\n",
    "    \"Targets\": []\n",
    "}\n",
    "\n",
    "for c in content:\n",
    "    if c['subject'] == \"Impact\":\n",
    "        ts_sentences['Impact'].extend(c['object'].strip().split('\\n'))\n",
    "    if c['subject'] == \"Risks\":\n",
    "        ts_sentences['Risks'].extend(c['object'].strip().split('\\n'))\n",
    "    if c['subject'] == \"Opportunities\":\n",
    "        ts_sentences['Opportunities'].extend(c['object'].strip().split('\\n'))\n",
    "    if c['subject'] == \"Strategy\" and c['predicate'] == 'hasDescription':\n",
    "        ts_sentences['Strategy'].extend(c['object'].strip().split('\\n'))\n",
    "    if c['subject'] == \"Actions\":\n",
    "        ts_sentences['Actions'].extend(c['object'].strip().split('\\n'))\n",
    "    if c['subject'] == \"AdoptedPolicies\":\n",
    "        ts_sentences['AdoptedPolicies'].extend(c['object'].strip().split('\\n'))\n",
    "    if c['subject'] == \"Targets\":\n",
    "        ts_sentences['Targets'].extend(c['object'].strip().split('\\n'))"
   ]
  },
  {
   "cell_type": "code",
   "execution_count": 114,
   "metadata": {},
   "outputs": [],
   "source": [
    "# Per aspect summarization\n",
    "N_SENTENCES = 5\n",
    "start_prompt = \"Given list of sentences. \"\n",
    "ts_prompts = {\n",
    "    \"Impact\": f\"Summurise company's negative impact on the environment in {N_SENTENCES} sentences.\",\n",
    "    \"Risks\": f\"Summurise material risks from company's impact on environment in {N_SENTENCES} sentences.\",\n",
    "    \"Opportunities\": f\"Summurise financial materiality and the effect of climate change on the company in {N_SENTENCES} sentences.\",\n",
    "    \"Strategy\": f\"Summurise company's past and current efforts to mitigate negative environmental impact in {N_SENTENCES} sentences.\",\n",
    "    \"Actions\": f\"Summurise concrete actions taken by company to mitigate negative environmental impact in {N_SENTENCES} sentences.\",\n",
    "    \"AdoptedPolicies\": f\"Summurise company's adopted policies towards sustainable economy in {N_SENTENCES} sentences.\",\n",
    "    \"Targets\": f\"Summurise company's goals towards sustainable economy in {N_SENTENCES} sentences.\"\n",
    "}\n",
    "end_prompt = \"Add line breaks between output sentences. \\n Sentences: {text}\""
   ]
  },
  {
   "cell_type": "code",
   "execution_count": 115,
   "metadata": {},
   "outputs": [
    {
     "name": "stderr",
     "output_type": "stream",
     "text": [
      "100%|██████████| 7/7 [01:11<00:00, 10.29s/it]\n"
     ]
    }
   ],
   "source": [
    "out_ts = {\n",
    "    \"Impact\": \"\",\n",
    "    \"Risks\": \"\",\n",
    "    \"Opportunities\": \"\",\n",
    "    \"Strategy\": \"\",\n",
    "    \"Actions\": \"\",\n",
    "    \"AdoptedPolicies\": \"\",\n",
    "    \"Targets\": \"\"\n",
    "}\n",
    "\n",
    "for aspect in tqdm(ts_prompts.keys()):\n",
    "    template_prompt = PromptTemplate(\n",
    "        input_variables=[\"text\"], template=start_prompt+ts_prompts[aspect]+end_prompt\n",
    "    )\n",
    "    # final_prompt = template_prompt.format(standard=ts_prompts['impact'] )\n",
    "    chain = LLMChain(llm=llm, prompt=template_prompt)\n",
    "\n",
    "    out = chain.invoke(\n",
    "        {'text' : '.'.join(ts_sentences[aspect])}\n",
    "    ).get('text')\n",
    "\n",
    "    out_ts[aspect] = out"
   ]
  },
  {
   "cell_type": "code",
   "execution_count": 116,
   "metadata": {},
   "outputs": [],
   "source": [
    "for aspect in out_ts.keys():\n",
    "    processed_triples_dict.append(\n",
    "        {\n",
    "            \"subject\": aspect,\n",
    "            \"object\": out_ts[aspect],\n",
    "            \"predicate\": \"hasDescription\"\n",
    "        }\n",
    "    )"
   ]
  },
  {
   "cell_type": "code",
   "execution_count": 128,
   "metadata": {},
   "outputs": [],
   "source": [
    "# Save triples to JSON\n",
    "processed_json_path = \"../results/processed/\"+file[:-4]+\".json\"\n",
    "with open(processed_json_path, 'w', encoding='utf-8') as f:\n",
    "    json.dump(processed_triples_dict, f, ensure_ascii=False, indent=4)"
   ]
  },
  {
   "cell_type": "markdown",
   "metadata": {},
   "source": [
    "### Visualise KG"
   ]
  },
  {
   "cell_type": "code",
   "execution_count": 29,
   "metadata": {},
   "outputs": [],
   "source": [
    "import json\n",
    "\n",
    "def read_json(path):\n",
    "    with open(path, 'r') as f:\n",
    "        content = json.load(f)\n",
    "    return content\n",
    "\n",
    "def create_graph_from_triplets(triplets_dict):\n",
    "    G = nx.DiGraph()\n",
    "    # for triplet in triplets:\n",
    "    #     subject, predicate, obj = triplet.strip().split('~')\n",
    "    #     G.add_edge(subject.strip(), obj.strip(), label=predicate.strip())\n",
    "    # for triplet in triplets:\n",
    "    #     subject, predicate, obj = triplet.strip().split('|')\n",
    "    for item in triplets_dict:\n",
    "        G.add_edge(item['subject'], item['object'], label=item['predicate'])\n",
    "        \n",
    "    return G\n",
    "\n",
    "def nx_to_pyvis(networkx_graph):\n",
    "    pyvis_graph = Network(notebook=True, cdn_resources='remote')\n",
    "    for node in networkx_graph.nodes():\n",
    "        pyvis_graph.add_node(node)\n",
    "    for edge in networkx_graph.edges(data=True):\n",
    "        pyvis_graph.add_edge(edge[0], edge[1], label=edge[2][\"label\"])\n",
    "    return pyvis_graph\n",
    "\n",
    "def generateGraph(triplets_json):\n",
    "    triples_dict = read_json(\"../results/processed/Airbus_SE-Document_d_Enregistrement_Universel-EN.json\")\n",
    "    # triplets = [t.strip() for t in triples_list_clean if t.strip()]\n",
    "    graph = create_graph_from_triplets(triples_dict)\n",
    "    pyvis_network = nx_to_pyvis(graph)\n",
    "\n",
    "    pyvis_network.toggle_hide_edges_on_drag(True)\n",
    "    pyvis_network.toggle_physics(False)\n",
    "    pyvis_network.set_edge_smooth('discrete')\n",
    "\n",
    "    html = pyvis_network.generate_html()\n",
    "    html = html.replace(\"'\", \"\\\"\")\n",
    "\n",
    "    return f\"\"\"<iframe style=\"width: 100%; height: 600px;margin:0 auto\" name=\"result\" allow=\"midi; geolocation; microphone; camera;\n",
    "    display-capture; encrypted-media;\" sandbox=\"allow-modals allow-forms\n",
    "    allow-scripts allow-same-origin allow-popups\n",
    "    allow-top-navigation-by-user-activation allow-downloads\" allowfullscreen=\"\"\n",
    "    allowpaymentrequest=\"\" frameborder=\"0\" srcdoc='{html}'></iframe>\"\"\""
   ]
  },
  {
   "cell_type": "code",
   "execution_count": null,
   "metadata": {},
   "outputs": [],
   "source": [
    "# KG example\n",
    "\n",
    "demo = gr.Interface(\n",
    "    generateGraph,\n",
    "    inputs=None,\n",
    "    outputs=gr.outputs.HTML(),\n",
    "    title=\"Knowledge Graph\",\n",
    "    allow_flagging='never',\n",
    "    live=True,\n",
    ")\n",
    "\n",
    "demo.launch(\n",
    "    height=800,\n",
    "    width=\"100%\"\n",
    ")"
   ]
  },
  {
   "cell_type": "markdown",
   "metadata": {},
   "source": [
    "### Annotations analysis"
   ]
  },
  {
   "cell_type": "code",
   "execution_count": 2,
   "metadata": {},
   "outputs": [
    {
     "data": {
      "text/plain": [
       "(84, 8)"
      ]
     },
     "execution_count": 2,
     "metadata": {},
     "output_type": "execute_result"
    }
   ],
   "source": [
    "from nltk import agreement\n",
    "import pandas as pd\n",
    "import numpy as np\n",
    "\n",
    "annotatin_df = pd.read_csv(\"../data/annotations_4.csv\")\n",
    "annotatin_df.shape"
   ]
  },
  {
   "cell_type": "code",
   "execution_count": 3,
   "metadata": {},
   "outputs": [
    {
     "data": {
      "text/html": [
       "<div>\n",
       "<style scoped>\n",
       "    .dataframe tbody tr th:only-of-type {\n",
       "        vertical-align: middle;\n",
       "    }\n",
       "\n",
       "    .dataframe tbody tr th {\n",
       "        vertical-align: top;\n",
       "    }\n",
       "\n",
       "    .dataframe thead th {\n",
       "        text-align: right;\n",
       "    }\n",
       "</style>\n",
       "<table border=\"1\" class=\"dataframe\">\n",
       "  <thead>\n",
       "    <tr style=\"text-align: right;\">\n",
       "      <th></th>\n",
       "      <th>organization</th>\n",
       "      <th>aspect</th>\n",
       "      <th>tm_annotator_1</th>\n",
       "      <th>tm_annotator_2</th>\n",
       "      <th>tm_annotator_3</th>\n",
       "      <th>vague_annotator_1</th>\n",
       "      <th>vague_annotator_2</th>\n",
       "      <th>vague_annotator_3</th>\n",
       "    </tr>\n",
       "  </thead>\n",
       "  <tbody>\n",
       "    <tr>\n",
       "      <th>0</th>\n",
       "      <td>airbus</td>\n",
       "      <td>strategy</td>\n",
       "      <td>1</td>\n",
       "      <td>1</td>\n",
       "      <td>1</td>\n",
       "      <td>0</td>\n",
       "      <td>1</td>\n",
       "      <td>0</td>\n",
       "    </tr>\n",
       "    <tr>\n",
       "      <th>1</th>\n",
       "      <td>airbus</td>\n",
       "      <td>impact</td>\n",
       "      <td>0</td>\n",
       "      <td>0</td>\n",
       "      <td>0</td>\n",
       "      <td>0</td>\n",
       "      <td>0</td>\n",
       "      <td>0</td>\n",
       "    </tr>\n",
       "    <tr>\n",
       "      <th>2</th>\n",
       "      <td>airbus</td>\n",
       "      <td>risks</td>\n",
       "      <td>1</td>\n",
       "      <td>1</td>\n",
       "      <td>1</td>\n",
       "      <td>0</td>\n",
       "      <td>1</td>\n",
       "      <td>0</td>\n",
       "    </tr>\n",
       "    <tr>\n",
       "      <th>3</th>\n",
       "      <td>airbus</td>\n",
       "      <td>opportunities</td>\n",
       "      <td>1</td>\n",
       "      <td>1</td>\n",
       "      <td>1</td>\n",
       "      <td>1</td>\n",
       "      <td>1</td>\n",
       "      <td>0</td>\n",
       "    </tr>\n",
       "    <tr>\n",
       "      <th>4</th>\n",
       "      <td>airbus</td>\n",
       "      <td>actions</td>\n",
       "      <td>1</td>\n",
       "      <td>0</td>\n",
       "      <td>0</td>\n",
       "      <td>0</td>\n",
       "      <td>0</td>\n",
       "      <td>0</td>\n",
       "    </tr>\n",
       "  </tbody>\n",
       "</table>\n",
       "</div>"
      ],
      "text/plain": [
       "  organization         aspect  tm_annotator_1  tm_annotator_2  tm_annotator_3  \\\n",
       "0       airbus       strategy               1               1               1   \n",
       "1       airbus         impact               0               0               0   \n",
       "2       airbus          risks               1               1               1   \n",
       "3       airbus  opportunities               1               1               1   \n",
       "4       airbus        actions               1               0               0   \n",
       "\n",
       "   vague_annotator_1  vague_annotator_2  vague_annotator_3  \n",
       "0                  0                  1                  0  \n",
       "1                  0                  0                  0  \n",
       "2                  0                  1                  0  \n",
       "3                  1                  1                  0  \n",
       "4                  0                  0                  0  "
      ]
     },
     "execution_count": 3,
     "metadata": {},
     "output_type": "execute_result"
    }
   ],
   "source": [
    "annotatin_df.head()"
   ]
  },
  {
   "cell_type": "code",
   "execution_count": 5,
   "metadata": {},
   "outputs": [
    {
     "data": {
      "text/html": [
       "<div>\n",
       "<style scoped>\n",
       "    .dataframe tbody tr th:only-of-type {\n",
       "        vertical-align: middle;\n",
       "    }\n",
       "\n",
       "    .dataframe tbody tr th {\n",
       "        vertical-align: top;\n",
       "    }\n",
       "\n",
       "    .dataframe thead th {\n",
       "        text-align: right;\n",
       "    }\n",
       "</style>\n",
       "<table border=\"1\" class=\"dataframe\">\n",
       "  <thead>\n",
       "    <tr style=\"text-align: right;\">\n",
       "      <th></th>\n",
       "      <th>aspect</th>\n",
       "      <th>tm_annotator_1</th>\n",
       "      <th>tm_annotator_2</th>\n",
       "      <th>tm_annotator_3</th>\n",
       "      <th>vague_annotator_1</th>\n",
       "      <th>vague_annotator_2</th>\n",
       "      <th>vague_annotator_3</th>\n",
       "      <th>tm_total</th>\n",
       "      <th>vague_total</th>\n",
       "    </tr>\n",
       "  </thead>\n",
       "  <tbody>\n",
       "    <tr>\n",
       "      <th>0</th>\n",
       "      <td>actions</td>\n",
       "      <td>14</td>\n",
       "      <td>13</td>\n",
       "      <td>11</td>\n",
       "      <td>2</td>\n",
       "      <td>1</td>\n",
       "      <td>3</td>\n",
       "      <td>38</td>\n",
       "      <td>6</td>\n",
       "    </tr>\n",
       "    <tr>\n",
       "      <th>1</th>\n",
       "      <td>impact</td>\n",
       "      <td>9</td>\n",
       "      <td>11</td>\n",
       "      <td>9</td>\n",
       "      <td>5</td>\n",
       "      <td>3</td>\n",
       "      <td>1</td>\n",
       "      <td>29</td>\n",
       "      <td>9</td>\n",
       "    </tr>\n",
       "    <tr>\n",
       "      <th>2</th>\n",
       "      <td>opportunities</td>\n",
       "      <td>8</td>\n",
       "      <td>12</td>\n",
       "      <td>11</td>\n",
       "      <td>5</td>\n",
       "      <td>3</td>\n",
       "      <td>2</td>\n",
       "      <td>31</td>\n",
       "      <td>10</td>\n",
       "    </tr>\n",
       "    <tr>\n",
       "      <th>3</th>\n",
       "      <td>risks</td>\n",
       "      <td>12</td>\n",
       "      <td>14</td>\n",
       "      <td>14</td>\n",
       "      <td>1</td>\n",
       "      <td>1</td>\n",
       "      <td>0</td>\n",
       "      <td>40</td>\n",
       "      <td>2</td>\n",
       "    </tr>\n",
       "    <tr>\n",
       "      <th>4</th>\n",
       "      <td>strategy</td>\n",
       "      <td>13</td>\n",
       "      <td>13</td>\n",
       "      <td>14</td>\n",
       "      <td>3</td>\n",
       "      <td>2</td>\n",
       "      <td>1</td>\n",
       "      <td>40</td>\n",
       "      <td>6</td>\n",
       "    </tr>\n",
       "    <tr>\n",
       "      <th>5</th>\n",
       "      <td>targets</td>\n",
       "      <td>12</td>\n",
       "      <td>14</td>\n",
       "      <td>13</td>\n",
       "      <td>3</td>\n",
       "      <td>4</td>\n",
       "      <td>6</td>\n",
       "      <td>39</td>\n",
       "      <td>13</td>\n",
       "    </tr>\n",
       "  </tbody>\n",
       "</table>\n",
       "</div>"
      ],
      "text/plain": [
       "          aspect  tm_annotator_1  tm_annotator_2  tm_annotator_3  \\\n",
       "0        actions              14              13              11   \n",
       "1         impact               9              11               9   \n",
       "2  opportunities               8              12              11   \n",
       "3          risks              12              14              14   \n",
       "4       strategy              13              13              14   \n",
       "5        targets              12              14              13   \n",
       "\n",
       "   vague_annotator_1  vague_annotator_2  vague_annotator_3  tm_total  \\\n",
       "0                  2                  1                  3        38   \n",
       "1                  5                  3                  1        29   \n",
       "2                  5                  3                  2        31   \n",
       "3                  1                  1                  0        40   \n",
       "4                  3                  2                  1        40   \n",
       "5                  3                  4                  6        39   \n",
       "\n",
       "   vague_total  \n",
       "0            6  \n",
       "1            9  \n",
       "2           10  \n",
       "3            2  \n",
       "4            6  \n",
       "5           13  "
      ]
     },
     "execution_count": 5,
     "metadata": {},
     "output_type": "execute_result"
    }
   ],
   "source": [
    "groupped = annotatin_df.groupby(\"aspect\").sum().reset_index()\n",
    "groupped['tm_total']= groupped[[\"tm_annotator_1\", \"tm_annotator_2\", \"tm_annotator_3\"]].sum(axis=1)\n",
    "groupped['vague_total']= groupped[[\"vague_annotator_1\", \"vague_annotator_2\", \"vague_annotator_3\"]].sum(axis=1)\n",
    "groupped"
   ]
  },
  {
   "cell_type": "code",
   "execution_count": 16,
   "metadata": {},
   "outputs": [
    {
     "data": {
      "text/html": [
       "<div>\n",
       "<style scoped>\n",
       "    .dataframe tbody tr th:only-of-type {\n",
       "        vertical-align: middle;\n",
       "    }\n",
       "\n",
       "    .dataframe tbody tr th {\n",
       "        vertical-align: top;\n",
       "    }\n",
       "\n",
       "    .dataframe thead th {\n",
       "        text-align: right;\n",
       "    }\n",
       "</style>\n",
       "<table border=\"1\" class=\"dataframe\">\n",
       "  <thead>\n",
       "    <tr style=\"text-align: right;\">\n",
       "      <th></th>\n",
       "      <th>aspect</th>\n",
       "      <th>tm_total</th>\n",
       "      <th>vague_total</th>\n",
       "    </tr>\n",
       "  </thead>\n",
       "  <tbody>\n",
       "    <tr>\n",
       "      <th>0</th>\n",
       "      <td>actions</td>\n",
       "      <td>27</td>\n",
       "      <td>3</td>\n",
       "    </tr>\n",
       "    <tr>\n",
       "      <th>1</th>\n",
       "      <td>impact</td>\n",
       "      <td>20</td>\n",
       "      <td>8</td>\n",
       "    </tr>\n",
       "    <tr>\n",
       "      <th>2</th>\n",
       "      <td>opportunities</td>\n",
       "      <td>20</td>\n",
       "      <td>8</td>\n",
       "    </tr>\n",
       "    <tr>\n",
       "      <th>3</th>\n",
       "      <td>risks</td>\n",
       "      <td>26</td>\n",
       "      <td>2</td>\n",
       "    </tr>\n",
       "    <tr>\n",
       "      <th>4</th>\n",
       "      <td>strategy</td>\n",
       "      <td>26</td>\n",
       "      <td>5</td>\n",
       "    </tr>\n",
       "    <tr>\n",
       "      <th>5</th>\n",
       "      <td>targets</td>\n",
       "      <td>26</td>\n",
       "      <td>7</td>\n",
       "    </tr>\n",
       "  </tbody>\n",
       "</table>\n",
       "</div>"
      ],
      "text/plain": [
       "          aspect  tm_total  vague_total\n",
       "0        actions        27            3\n",
       "1         impact        20            8\n",
       "2  opportunities        20            8\n",
       "3          risks        26            2\n",
       "4       strategy        26            5\n",
       "5        targets        26            7"
      ]
     },
     "execution_count": 16,
     "metadata": {},
     "output_type": "execute_result"
    }
   ],
   "source": [
    "show_df = pd.DataFrame()\n",
    "show_df['aspect'] = groupped['aspect']\n",
    "show_df['tm_total'] = groupped[[\"tm_annotator_1\", \"tm_annotator_2\"]].sum(axis=1)\n",
    "show_df['vague_total'] = groupped[[\"vague_annotator_1\", \"vague_annotator_2\"]].sum(axis=1)\n",
    "show_df"
   ]
  },
  {
   "cell_type": "code",
   "execution_count": 7,
   "metadata": {},
   "outputs": [
    {
     "data": {
      "image/png": "[encoded data removed]",
      "text/plain": [
       "<Figure size 1000x600 with 1 Axes>"
      ]
     },
     "metadata": {},
     "output_type": "display_data"
    }
   ],
   "source": [
    "import seaborn as sns\n",
    "import matplotlib.pyplot as plt\n",
    "\n",
    "plt.figure(figsize=(10, 6))\n",
    "sns.barplot(data=show_df, x='aspect', y='value', hue='type')\n",
    "# plt.title('Distribution of Median Housing Prices in Boston')\n",
    "plt.xlabel('Topical Standard aspect')\n",
    "plt.ylabel('Topical match and vagueness sum')\n",
    "# plt.grid(True)\n",
    "plt.show()"
   ]
  },
  {
   "cell_type": "code",
   "execution_count": 27,
   "metadata": {},
   "outputs": [
    {
     "ename": "AttributeError",
     "evalue": "module 'seaborn' has no attribute 'plt'",
     "output_type": "error",
     "traceback": [
      "\u001b[0;31m---------------------------------------------------------------------------\u001b[0m",
      "\u001b[0;31mAttributeError\u001b[0m                            Traceback (most recent call last)",
      "Cell \u001b[0;32mIn[27], line 5\u001b[0m\n\u001b[1;32m      3\u001b[0m ax2 \u001b[38;5;241m=\u001b[39m ax\u001b[38;5;241m.\u001b[39mtwinx()\n\u001b[1;32m      4\u001b[0m sns\u001b[38;5;241m.\u001b[39mbarplot(data\u001b[38;5;241m=\u001b[39mshow_df, x\u001b[38;5;241m=\u001b[39m\u001b[38;5;124m'\u001b[39m\u001b[38;5;124maspect\u001b[39m\u001b[38;5;124m'\u001b[39m, y\u001b[38;5;241m=\u001b[39m\u001b[38;5;124m'\u001b[39m\u001b[38;5;124mvague_total\u001b[39m\u001b[38;5;124m'\u001b[39m, ax\u001b[38;5;241m=\u001b[39max2, color\u001b[38;5;241m=\u001b[39m\u001b[38;5;124m'\u001b[39m\u001b[38;5;124mr\u001b[39m\u001b[38;5;124m'\u001b[39m)\n\u001b[0;32m----> 5\u001b[0m \u001b[43msns\u001b[49m\u001b[38;5;241;43m.\u001b[39;49m\u001b[43mplt\u001b[49m\u001b[38;5;241m.\u001b[39mshow()\n",
      "\u001b[0;31mAttributeError\u001b[0m: module 'seaborn' has no attribute 'plt'"
     ]
    },
    {
     "data": {
      "image/png": "[encoded data removed]",
      "text/plain": [
       "<Figure size 640x480 with 2 Axes>"
      ]
     },
     "metadata": {},
     "output_type": "display_data"
    }
   ],
   "source": [
    "fig, ax = plt.subplots()\n",
    "sns.barplot(data=show_df, x='aspect', y='tm_total', ax=ax)\n",
    "ax2 = ax.twinx()\n",
    "sns.barplot(data=show_df, x='aspect', y='vague_total', ax=ax2, color='r')\n",
    "sns.plt.show()"
   ]
  },
  {
   "cell_type": "code",
   "execution_count": 9,
   "metadata": {},
   "outputs": [],
   "source": [
    "def calculate_iaa(rater1, rater2, rater3):\n",
    "    taskdata=[[0,str(i),str(rater1[i])] for i in range(0,len(rater1))]+[[1,str(i),str(rater2[i])] for i in range(0,len(rater2))]+[[2,str(i),str(rater3[i])] for i in range(0,len(rater3))]\n",
    "    ratingtask = agreement.AnnotationTask(data=taskdata)\n",
    "    print(\"kappa \" +str(ratingtask.kappa()))\n",
    "    print(\"fleiss \" + str(ratingtask.multi_kappa()))\n",
    "    print(\"alpha \" +str(ratingtask.alpha()))\n",
    "    print(\"scotts \" + str(ratingtask.pi()))"
   ]
  },
  {
   "cell_type": "code",
   "execution_count": 10,
   "metadata": {},
   "outputs": [
    {
     "name": "stdout",
     "output_type": "stream",
     "text": [
      "kappa 0.5116855218696835\n",
      "fleiss 0.5062695924764891\n",
      "alpha 0.5042791310072416\n",
      "scotts 0.5023041474654376\n"
     ]
    }
   ],
   "source": [
    "calculate_iaa(annotatin_df['tm_annotator_1'].to_list(), annotatin_df['tm_annotator_2'].to_list(), annotatin_df['tm_annotator_3'].to_list())"
   ]
  },
  {
   "cell_type": "code",
   "execution_count": 16,
   "metadata": {},
   "outputs": [
    {
     "data": {
      "text/plain": [
       "0.4590163934426229"
      ]
     },
     "execution_count": 16,
     "metadata": {},
     "output_type": "execute_result"
    }
   ],
   "source": [
    "from sklearn.metrics import cohen_kappa_score\n",
    "from sklearn.metrics import confusion_matrix\n",
    "from statsmodels.stats import inter_rater as irr\n",
    "\n",
    "cohen_kappa_score(annotatin_df['tm_annotator_1'].to_list(), annotatin_df['tm_annotator_2'].to_list())"
   ]
  },
  {
   "cell_type": "code",
   "execution_count": 17,
   "metadata": {},
   "outputs": [
    {
     "data": {
      "text/plain": [
       "array([[ 6, 10],\n",
       "       [ 1, 67]])"
      ]
     },
     "execution_count": 17,
     "metadata": {},
     "output_type": "execute_result"
    }
   ],
   "source": [
    "confusion_matrix(annotatin_df['tm_annotator_1'].to_list(), annotatin_df['tm_annotator_2'].to_list())"
   ]
  },
  {
   "cell_type": "code",
   "execution_count": 21,
   "metadata": {},
   "outputs": [
    {
     "data": {
      "text/plain": [
       "0.4458770614692655"
      ]
     },
     "execution_count": 21,
     "metadata": {},
     "output_type": "execute_result"
    }
   ],
   "source": [
    "arr = np.column_stack((annotatin_df['tm_annotator_1'].to_list(), annotatin_df['tm_annotator_2'].to_list()))\n",
    "agg = irr.aggregate_raters(arr)\n",
    "irr.fleiss_kappa(agg[0], method='fleiss')"
   ]
  }
 ],
 "metadata": {
  "kernelspec": {
   "display_name": "venv",
   "language": "python",
   "name": "python3"
  },
  "language_info": {
   "codemirror_mode": {
    "name": "ipython",
    "version": 3
   },
   "file_extension": ".py",
   "mimetype": "text/x-python",
   "name": "python",
   "nbconvert_exporter": "python",
   "pygments_lexer": "ipython3",
   "version": "3.9.6"
  }
 },
 "nbformat": 4,
 "nbformat_minor": 2
}
